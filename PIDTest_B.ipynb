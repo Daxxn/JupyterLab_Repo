{
 "cells": [
  {
   "cell_type": "code",
   "execution_count": 1,
   "metadata": {},
   "outputs": [],
   "source": [
    "import matplotlib.pyplot as plt\n",
    "import numpy as np\n",
    "import random as rng\n",
    "import math"
   ]
  },
  {
   "cell_type": "code",
   "execution_count": 2,
   "metadata": {},
   "outputs": [],
   "source": [
    "class PID :\n",
    "    pGain = 0\n",
    "    iGain = 0\n",
    "    dGain = 0\n",
    "    target = 0\n",
    "    err = 0\n",
    "    output = 0\n",
    "    dataIn = 0\n",
    "    integSum = 0\n",
    "    derPast = 0\n",
    "    time = 0\n",
    "        \n",
    "    pOut = 0\n",
    "    iOut = 0\n",
    "    dOut = 0\n",
    "        \n",
    "    def __init__(self, pGain, iGain, dGain) :\n",
    "        self.pGain = pGain\n",
    "        self.iGain = iGain\n",
    "        self.dGain = dGain\n",
    "        \n",
    "    def Control(self, inputData):\n",
    "        self.Proportion(inputData)\n",
    "        self.Integral(inputData)\n",
    "        self.Derive(inputData)\n",
    "        \n",
    "        return self.pOut + self.iOut + self.dOut\n",
    "\n",
    "    def Proportion(self, inputData):\n",
    "        self.dataIn = inputData\n",
    "        self.err = self.target - inputData\n",
    "        self.pOut = self.err * self.pGain\n",
    "        \n",
    "    def Integral(self, inputData):\n",
    "        self.integSum = (self.integSum + self.err) * self.iGain\n",
    "        \n",
    "        self.iOut = self.integSum\n",
    "        \n",
    "    def Derive(self, inputData):\n",
    "        if inputData != 0 :\n",
    "            der = (inputData - self.derPast) / self.time\n",
    "            self.derPast = inputData\n",
    "            self.dOut = der * self.dGain\n",
    "    \n",
    "    def calcError(self, inputData) :\n",
    "        return inputData\n",
    "    \n",
    "    def Print(self) :\n",
    "        print(\"P: {} I: {} D: {}\".format(self.pOut, self.iOut, self.dOut))"
   ]
  },
  {
   "cell_type": "code",
   "execution_count": 3,
   "metadata": {},
   "outputs": [],
   "source": [
    "class PID_2 :\n",
    "    pGain = 0\n",
    "    iGain = 0\n",
    "    dGain = 0\n",
    "    \n",
    "    pOut = 0\n",
    "    iOut = 0\n",
    "    dOut = 0\n",
    "    \n",
    "    r = 0\n",
    "    e = 0\n",
    "    u = 0\n",
    "    y = 0\n",
    "    \n",
    "    time = 1\n",
    "    \n",
    "    # PID Internal variables\n",
    "    iSum = 0\n",
    "    der = 0\n",
    "    \n",
    "    def __init__(self, pGain, iGain, dGain) :\n",
    "        self.pGain = pGain\n",
    "        self.iGain = iGain\n",
    "        self.dGain = dGain\n",
    "    \n",
    "    def Control(self, target) :\n",
    "        self.r = target\n",
    "        self.ControlLoop()\n",
    "    \n",
    "    def ControlLoop(self) :\n",
    "        self.Error()\n",
    "        self.Proportion()\n",
    "        self.Integral()\n",
    "        self.Derivative()\n",
    "        self.Sum()\n",
    "    \n",
    "    def Error(self) :\n",
    "        self.e = self.r - self.y\n",
    "    \n",
    "    def Proportion(self) :\n",
    "        self.pOut = self.e * self.pGain\n",
    "        \n",
    "    def Integral(self) :\n",
    "        self.iSum = (self.iSum + self.e) * self.time\n",
    "        self.iOut = (self.iOut + self.iSum) * self.iGain\n",
    "    \n",
    "    def Derivative(self) :\n",
    "        self.der = (self.e * self.time) / self.time\n",
    "        self.dOut = self.der * self.dGain\n",
    "    \n",
    "    def Sum(self) :\n",
    "        self.u = self.pOut + self.iOut + self.dOut"
   ]
  },
  {
   "cell_type": "code",
   "execution_count": 4,
   "metadata": {},
   "outputs": [],
   "source": [
    "def targetTest_1(inputData) :\n",
    "    return math.radians(math.sin(math.pow(inputData, 0.1))) * inputData * 1\n",
    "\n",
    "def targetTest_2(x) :\n",
    "    return math.radians(math.sin(math.pow(x, 0.4)))\n",
    "\n",
    "def plantFeedback_1(inputData) :\n",
    "    if inputData > 0 :\n",
    "        return 2\n",
    "    elif inputData < 0 :\n",
    "        return 2\n",
    "    else :\n",
    "        return 0\n",
    "    \n",
    "def plantFeedback(inputData) :\n",
    "    if inputData > 0 :\n",
    "        return inputData + inputData * 0.1\n",
    "    elif inputData < 0 :\n",
    "        return inputData + inputData * -0.1\n",
    "    else :\n",
    "        return 0\n",
    "    \n",
    "def plant(command) :\n",
    "    return command"
   ]
  },
  {
   "cell_type": "code",
   "execution_count": 5,
   "metadata": {},
   "outputs": [],
   "source": [
    "simTime = 100\n",
    "basicTarget = 50\n",
    "\n",
    "basicPID = PID_2(0.1, 0.001, 0.1)\n",
    "dynamicPID = PID_2(0.2, 0.001, 0.1)\n",
    "\n",
    "basicPID.time = 1\n",
    "\n",
    "targetData = []\n",
    "errorData = []\n",
    "resultData = []\n",
    "\n",
    "def runDynamicTest(time, pid, targetFunc) :\n",
    "    for t in range(time) :\n",
    "        target = targetFunc(t)\n",
    "        pid.Control(target)\n",
    "        pid.y = pid.y + pid.u\n",
    "        targetData.append(target)\n",
    "        errorData.append(pid.e)\n",
    "        resultData.append(pid.y)\n",
    "\n",
    "def runStaticTest(time, pid, target) :\n",
    "    for t in range(time) :\n",
    "        pid.Control(target)\n",
    "        pid.y = pid.y + pid.u\n",
    "        targetData.append(target)\n",
    "        errorData.append(pid.e)\n",
    "        resultData.append(pid.y)\n",
    "        \n",
    "        #printOutput()\n",
    "\n",
    "#runStaticTest(simTime, basicPID, basicTarget)\n",
    "runDynamicTest(simTime, dynamicPID, targetTest_2)\n",
    "\n",
    "def printOutput() :\n",
    "    for t in range(len(targetData)) :\n",
    "        print(f\"Target: {targetData[t]}\\t Result: {resultData[t]}\")\n"
   ]
  },
  {
   "cell_type": "code",
   "execution_count": 6,
   "metadata": {},
   "outputs": [],
   "source": [
    "def setAxes(axis):\n",
    "    axis.set_title(\"PID Control\")\n",
    "    axis.set_xlabel(\"Time\")\n",
    "    axis.set_ylabel(\"Value\")\n",
    "    axis.legend()"
   ]
  },
  {
   "cell_type": "code",
   "execution_count": 7,
   "metadata": {},
   "outputs": [
    {
     "data": {
      "image/png": "[encoded data removed]",
      "text/plain": [
       "<Figure size 432x288 with 1 Axes>"
      ]
     },
     "metadata": {
      "needs_background": "light"
     },
     "output_type": "display_data"
    }
   ],
   "source": [
    "figure_PID, axis_PID = plt.subplots()\n",
    "axis_PID.plot(targetData, label=\"Target\")\n",
    "#axis_PID.plot(errorData, label=\"Error\")\n",
    "axis_PID.plot(resultData, label=\"Result\")\n",
    "\n",
    "setAxes(axis_PID)"
   ]
  },
  {
   "cell_type": "code",
   "execution_count": 406,
   "metadata": {},
   "outputs": [],
   "source": [
    "targetApo = 100000\n",
    "apoGain = 0.00001\n",
    "\n",
    "def SpeedCurve(x) :\n",
    "    return math.radians(math.sin(x) + math.pow(x, 2))\n",
    "\n",
    "def createCurve(start, end, curve) :\n",
    "    output = []\n",
    "    for t in range(start, end) :\n",
    "        output.append(t * math.sin(math.pow(curve, 0.1)))\n",
    "    return output\n",
    "\n",
    "def recip(apo) :\n",
    "    if apo != 0 :\n",
    "        #return math.degrees(math.sin((math.pow(apo, 0.1))) * -1) + 1\n",
    "        #return math.degrees(math.tan((apo - targetApo) * apoGain + 1)) * math.pi / 180 - 0.6\n",
    "        # GOOD:\n",
    "        return (math.pow(apo, 1.8) - targetApo) * apoGain * 0.0001\n",
    "        #return (math.sin(math.pow(apo, 0.1)) - targetApo) * apoGain\n",
    "    else :\n",
    "        return 0\n",
    "\n",
    "def createData(length) :\n",
    "    output = []\n",
    "    for t in range(length) :\n",
    "        output.append(recip(t))\n",
    "        #output.append(SpeedCurve(t))\n",
    "    return output"
   ]
  },
  {
   "cell_type": "code",
   "execution_count": 407,
   "metadata": {},
   "outputs": [
    {
     "data": {
      "text/plain": [
       "[<matplotlib.lines.Line2D at 0x112986c5748>]"
      ]
     },
     "execution_count": 407,
     "metadata": {},
     "output_type": "execute_result"
    },
    {
     "data": {
      "image/png": "[encoded data removed]",
      "text/plain": [
       "<Figure size 432x288 with 1 Axes>"
      ]
     },
     "metadata": {
      "needs_background": "light"
     },
     "output_type": "display_data"
    }
   ],
   "source": [
    "figure_speed, axis_speed = plt.subplots()\n",
    "axis_speed.plot(createData(100000))"
   ]
  },
  {
   "cell_type": "code",
   "execution_count": null,
   "metadata": {},
   "outputs": [],
   "source": []
  },
  {
   "cell_type": "code",
   "execution_count": null,
   "metadata": {},
   "outputs": [],
   "source": []
  }
 ],
 "metadata": {
  "kernelspec": {
   "display_name": "Python 3",
   "language": "python",
   "name": "python3"
  },
  "language_info": {
   "codemirror_mode": {
    "name": "ipython",
    "version": 3
   },
   "file_extension": ".py",
   "mimetype": "text/x-python",
   "name": "python",
   "nbconvert_exporter": "python",
   "pygments_lexer": "ipython3",
   "version": "3.7.6"
  }
 },
 "nbformat": 4,
 "nbformat_minor": 4
}
