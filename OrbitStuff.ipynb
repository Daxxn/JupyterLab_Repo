{
 "cells": [
  {
   "cell_type": "code",
   "execution_count": 1,
   "metadata": {},
   "outputs": [],
   "source": [
    "import matplotlib.pyplot as plt\n",
    "import numpy as np\n",
    "import math"
   ]
  },
  {
   "cell_type": "code",
   "execution_count": null,
   "metadata": {},
   "outputs": [],
   "source": [
    "class Orbit :\n",
    "    periapsis = 0\n",
    "    apoapsis = 0\n",
    "    eccentricity = 0\n",
    "    inclination = 0\n",
    "    \n",
    "    semiMajorAxis = 0\n",
    "    semiMinorAxis = 0\n",
    "    periFocus = 0\n",
    "    apoFocus = 0\n",
    "    \n",
    "    def __init__(self, periapsis, apoapsis, eccentricity, inclination) :\n",
    "        self.periapsis = periapsis\n",
    "        self.apoapsis = apoapsis\n",
    "        self.eccentricity = eccentricity\n",
    "        self.inclination = inclination\n",
    "        \n",
    "    def calcEccentricity(self) :\n",
    "        self.eccentricity = self.periFocus / (self.semiminorAxis)\n",
    "        \n",
    "    def calcFoci(self) :\n",
    "        self.periFocus = math.sqrt(math.pow(self.periapsis, 2) - math.pow(self.semiminorAxis, 2))\n",
    "        self.apoFocus = math.sqrt(math.pow(self.apoapsis, 2) - math.pow(self.semiminorAxis, 2))"
   ]
  }
 ],
 "metadata": {
  "kernelspec": {
   "display_name": "Python 3",
   "language": "python",
   "name": "python3"
  },
  "language_info": {
   "codemirror_mode": {
    "name": "ipython",
    "version": 3
   },
   "file_extension": ".py",
   "mimetype": "text/x-python",
   "name": "python",
   "nbconvert_exporter": "python",
   "pygments_lexer": "ipython3",
   "version": "3.7.6"
  }
 },
 "nbformat": 4,
 "nbformat_minor": 4
}
