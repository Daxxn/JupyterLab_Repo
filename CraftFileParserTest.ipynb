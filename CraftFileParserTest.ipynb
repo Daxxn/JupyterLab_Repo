{
 "cells": [
  {
   "cell_type": "code",
   "execution_count": 1,
   "metadata": {},
   "outputs": [],
   "source": [
    "import math\n",
    "import json\n",
    "import datetime as time"
   ]
  },
  {
   "cell_type": "code",
   "execution_count": 2,
   "metadata": {},
   "outputs": [
    {
     "name": "stdin",
     "output_type": "stream",
     "text": [
      " Mun Scanner 1\n"
     ]
    },
    {
     "name": "stdout",
     "output_type": "stream",
     "text": [
      "Mun Scanner 1\n"
     ]
    }
   ],
   "source": [
    "currentSave = \"1_9 Science\"\n",
    "fileName = \"NoFile\"\n",
    "building = \"vab\"\n",
    "\n",
    "def getName() :\n",
    "    inputName = input()\n",
    "    if len(inputName) > 0 :\n",
    "        return inputName\n",
    "    else :\n",
    "        print(\"must enter name.\")\n",
    "        return getName()\n",
    "\n",
    "fileName = getName()\n",
    "print(fileName)"
   ]
  },
  {
   "cell_type": "code",
   "execution_count": 3,
   "metadata": {},
   "outputs": [
    {
     "name": "stdout",
     "output_type": "stream",
     "text": [
      "D:\\Games\\steamapps\\common\\Kerbal Space Program\\saves\\1_9 Science\\Ships\\VAB\\Mun Scanner 1.craft\n"
     ]
    }
   ],
   "source": [
    "jsonPath = \"D:\\Games\\steamapps\\common\\Kerbal Space Program\\Ships\\Script\\PartData\\\\KerbalElectricalData.json\"\n",
    "baseDir = \"D:\\Games\\steamapps\\common\\Kerbal Space Program\\saves\"\n",
    "VABPath = \"Ships\\VAB\"\n",
    "SPHPath = \"Ships\\SPH\"\n",
    "directory = 'D:\\Games\\steamapps\\common\\Kerbal Space Program\\saves\\Ship Testing\\Ships\\VAB\\\\'\n",
    "fileExt = \".craft\"\n",
    "\n",
    "fullPath = \"D:\\Games\\steamapps\\common\\Kerbal Space Program\\saves\\Ship Testing\\Ships\\VAB\\ElectTest1.craft\"\n",
    "\n",
    "def buildPath(baseDir, curSave, building, file, ext) :\n",
    "    if building == \"vab\" :\n",
    "        return baseDir + \"\\\\\" + curSave + \"\\\\\" + VABPath + \"\\\\\" + file + ext\n",
    "    elif building == \"sph\" :\n",
    "        return baseDir + \"\\\\\" + curSave + \"\\\\\" + SPHPath + \"\\\\\" + file + ext\n",
    "\n",
    "\n",
    "fullPath = buildPath(baseDir, currentSave, building, fileName, fileExt)\n",
    "print(fullPath)"
   ]
  },
  {
   "cell_type": "code",
   "execution_count": 57,
   "metadata": {},
   "outputs": [
    {
     "name": "stdout",
     "output_type": "stream",
     "text": [
      "[[['probeCoreOcto.v2_4294595886']], [['-1']], [['miniFuelTank_4294594672']], [['-1']], [['miniFuelTank_4294594436']], [['-1']], [['miniFuelTank_4294594202']], [['-1']], [['liquidEngineMini.v2_4294591922']], [['0']], [['Decoupler.1_4294579786']], [['1']], [['solarPanels5_4294578286']], [['-1']], [['solarPanels5_4294578148']], [['-1']], [['solarPanels5_4294578114']], [['-1']], [['solarPanels5_4294578080']], [['-1']], [['fairingSize1_4294560684']], [['2']], [['fuelTank_4294519506']], [['1']], [['liquidEngine3.v2_4294518628']], [['3']], [['sasModule_4294517554']], [['-1']], [['batteryBankMini_4294583418']], [['-1']], [['batteryBankMini_4294583316']], [['-1']], [['trussPiece1x_4294589516']], [['-1']], [['SCANsat.Scanner24_4294356692']], [['-1']], [['SCANsat.Scanner_4294576974']], [['-1']], [['HighGainAntenna5_4294595448']], [['-1']], [['Decoupler.1_4294515530']], [['4']], [['fuelTank_4294513022']], [['4']], [['fuelTank_4294512762']], [['4']], [['fuelTank_4294512504']], [['4']], [['liquidEngine2_4294512140']], [['6']], [['radialDecoupler2_4294510650']], [['5']], [['radialDecoupler2_4294510336']], [['5']], [['radialDecoupler2_4294510274']], [['5']], [['fuelTank_4294509458']], [['5']], [['fuelTank_4294509238']], [['5']], [['fuelTank_4294509188']], [['5']], [['fuelTank_4294508950']], [['5']], [['fuelTank_4294508496']], [['5']], [['fuelTank_4294508440']], [['5']], [['liquidEngine_4294507860']], [['6']], [['liquidEngine_4294507406']], [['6']], [['liquidEngine_4294507300']], [['6']], [['pointyNoseConeA_4294503918']], [['5']], [['pointyNoseConeA_4294503720']], [['5']], [['pointyNoseConeA_4294503668']], [['5']], [['strutConnector_4294503114']], [['5']], [['strutConnector_4294502500']], [['5']], [['strutConnector_4294502402']], [['5']], [['spotLight1_4294282410']], [['5']], [['spotLight2_4294282158']], [['4']], [['telescopicLadder_4294281636']], [['1']]]\n"
     ]
    }
   ],
   "source": [
    "parts = []\n",
    "\n",
    "def parseData(rawData) :\n",
    "    data = []\n",
    "    lines = rawData.split(\"\\n\")\n",
    "    for d in lines :\n",
    "        splitData = d.strip(\"\\t\").split(\" = \")\n",
    "        for spl in splitData :\n",
    "            spl.strip()\n",
    "        if len(splitData) > 1 :\n",
    "            data.append(splitData)\n",
    "    return data\n",
    "\n",
    "def parseData_2(rawData) :\n",
    "    data = []\n",
    "    lines = rawData.split(\"PART\\n{\")\n",
    "    for d in lines :\n",
    "        par = d.split(\"\\n\")\n",
    "        for i in par :\n",
    "            outputDict = []\n",
    "            val = i.split(\" = \")\n",
    "            if val[0] == \"\\tpart\" :\n",
    "                outputDict.append(val[1])\n",
    "            elif val[0] == \"\\tistg\" :\n",
    "                outputDict.append(val[1])\n",
    "            #print(outputDict)\n",
    "            data.append(outputDict)\n",
    "    \n",
    "    completeMatrix = []\n",
    "    for i in range(len(data)) :\n",
    "        if len(data[i]) > 0 :\n",
    "            completeData = []\n",
    "            if i % 2 == 0 :\n",
    "                completeData.append(data[i])\n",
    "            else :\n",
    "                completeData.insert(1, data[i])\n",
    "            completeMatrix.append(completeData)\n",
    "    print(completeMatrix)\n",
    "    \n",
    "def getPartNames(data) :\n",
    "    output = []\n",
    "    for d in data :\n",
    "        if d[0] == \"part\" :\n",
    "            d[1] = d[1].split(\"_\")[0]\n",
    "            output.append(d[1])\n",
    "    return output\n",
    "\n",
    "with open(fullPath) as file :\n",
    "    data = []\n",
    "    rawData = file.read()\n",
    "    data = parseData_2(rawData)\n",
    "    #parts = getPartNames(data)\n",
    "\n"
   ]
  },
  {
   "cell_type": "code",
   "execution_count": 5,
   "metadata": {},
   "outputs": [
    {
     "name": "stdout",
     "output_type": "stream",
     "text": [
      "['probeCoreOcto.v2', 'miniFuelTank', 'miniFuelTank', 'miniFuelTank', 'liquidEngineMini.v2', 'Decoupler.1', 'solarPanels5', 'solarPanels5', 'solarPanels5', 'solarPanels5', 'fairingSize1', 'fuelTank', 'liquidEngine3.v2', 'sasModule', 'batteryBankMini', 'batteryBankMini', 'trussPiece1x', 'SCANsat.Scanner24', 'SCANsat.Scanner', 'HighGainAntenna5', 'Decoupler.1', 'fuelTank', 'fuelTank', 'fuelTank', 'liquidEngine2', 'radialDecoupler2', 'radialDecoupler2', 'radialDecoupler2', 'fuelTank', 'fuelTank', 'fuelTank', 'fuelTank', 'fuelTank', 'fuelTank', 'liquidEngine', 'liquidEngine', 'liquidEngine', 'pointyNoseConeA', 'pointyNoseConeA', 'pointyNoseConeA', 'strutConnector', 'strutConnector', 'strutConnector']\n"
     ]
    }
   ],
   "source": [
    "print(parts)"
   ]
  },
  {
   "cell_type": "code",
   "execution_count": null,
   "metadata": {},
   "outputs": [],
   "source": []
  }
 ],
 "metadata": {
  "kernelspec": {
   "display_name": "Python 3",
   "language": "python",
   "name": "python3"
  },
  "language_info": {
   "codemirror_mode": {
    "name": "ipython",
    "version": 3
   },
   "file_extension": ".py",
   "mimetype": "text/x-python",
   "name": "python",
   "nbconvert_exporter": "python",
   "pygments_lexer": "ipython3",
   "version": "3.7.6"
  }
 },
 "nbformat": 4,
 "nbformat_minor": 4
}
